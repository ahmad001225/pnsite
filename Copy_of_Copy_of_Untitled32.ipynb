{
  "nbformat": 4,
  "nbformat_minor": 0,
  "metadata": {
    "colab": {
      "provenance": [],
      "include_colab_link": true
    },
    "kernelspec": {
      "name": "python3",
      "display_name": "Python 3"
    },
    "language_info": {
      "name": "python"
    }
  },
  "cells": [
    {
      "cell_type": "markdown",
      "metadata": {
        "id": "view-in-github",
        "colab_type": "text"
      },
      "source": [
        "<a href=\"https://colab.research.google.com/github/ahmad001225/pnsite/blob/main/Copy_of_Copy_of_Untitled32.ipynb\" target=\"_parent\"><img src=\"https://colab.research.google.com/assets/colab-badge.svg\" alt=\"Open In Colab\"/></a>"
      ]
    },
    {
      "cell_type": "code",
      "execution_count": null,
      "metadata": {
        "id": "EkavgehXycG7"
      },
      "outputs": [],
      "source": [
        "import pandas as pd"
      ]
    },
    {
      "cell_type": "code",
      "source": [
        "df = pd.read_excel(r'/content/fol1.xlsx')"
      ],
      "metadata": {
        "id": "ktCUT-fL1vmG"
      },
      "execution_count": null,
      "outputs": []
    },
    {
      "cell_type": "code",
      "source": [
        "df"
      ],
      "metadata": {
        "id": "eSgTgku-179s"
      },
      "execution_count": null,
      "outputs": []
    },
    {
      "cell_type": "code",
      "source": [
        "pip install yfinance"
      ],
      "metadata": {
        "id": "cNI4AviD2EBJ"
      },
      "execution_count": null,
      "outputs": []
    },
    {
      "cell_type": "code",
      "source": [
        "import yfinance as yf"
      ],
      "metadata": {
        "id": "HHAbo00v2Oy3"
      },
      "execution_count": null,
      "outputs": []
    },
    {
      "cell_type": "code",
      "source": [
        "#define the ticker symbol\n",
        "tickerSymbol = 'CL=F'\n",
        "\n",
        "#get data on this ticker\n",
        "tickerData = yf.Ticker(tickerSymbol)\n",
        "\n",
        "#get the historical prices for this ticker\n",
        "dataframe = tickerData.history(period='1d', start='2010-1-1', end='2022-1-1')"
      ],
      "metadata": {
        "id": "kHhg20jp2SE5"
      },
      "execution_count": null,
      "outputs": []
    },
    {
      "cell_type": "code",
      "source": [
        "dataframe"
      ],
      "metadata": {
        "id": "saUl2RSG2fcv"
      },
      "execution_count": null,
      "outputs": []
    },
    {
      "cell_type": "code",
      "source": [
        "pip install pytse_client"
      ],
      "metadata": {
        "id": "74MXx5ZW28_x"
      },
      "execution_count": null,
      "outputs": []
    },
    {
      "cell_type": "code",
      "source": [
        "\n",
        "# Download all the symbols and write them to CSV files\n",
        "tickers = tse.download(symbols=\"all\", write_to_csv=True)\n",
        "\n",
        "# Choose a symbol to work with, for example \"فولاد\"\n",
        "symbol = \"فولاد\"\n",
        "\n",
        "# Get the ticker object for the symbol\n",
        "ticker = tickers[symbol]\n",
        "\n",
        "# Print some information about the ticker\n",
        "print(f\"Name: {ticker.name}\")\n",
        "print(f\"Group name: {ticker.group_name}\")\n",
        "print(f\"EPS: {ticker.eps}\")\n",
        "print(f\"P/E: {ticker.pe}\")\n",
        "\n",
        "# Get the historical data as a pandas dataframe\n",
        "df = ticker.history\n",
        "\n",
        "# Print the first five rows of the dataframe\n",
        "print(df.head())\n",
        "\n",
        "# Plot the close price of the ticker\n",
        "df[\"close\"].plot()"
      ],
      "metadata": {
        "id": "cuJRWEhC3DY1"
      },
      "execution_count": null,
      "outputs": []
    },
    {
      "cell_type": "code",
      "source": [
        "df= df.to_numpy()"
      ],
      "metadata": {
        "id": "dIn7f9zW5gU-"
      },
      "execution_count": null,
      "outputs": []
    },
    {
      "cell_type": "code",
      "source": [
        "Close_folad= []\n",
        "for i in range(len(df)-1):\n",
        "  Close_folad.append(df[len(df)-i-1][1])\n",
        "Close_folad"
      ],
      "metadata": {
        "id": "nrB3OY7t5oPJ"
      },
      "execution_count": null,
      "outputs": []
    },
    {
      "cell_type": "code",
      "source": [
        "Close_folad = pd.Series(Close_folad)"
      ],
      "metadata": {
        "id": "X3pD7a0S6ZNa"
      },
      "execution_count": null,
      "outputs": []
    },
    {
      "cell_type": "code",
      "source": [
        "shortEMA2 = Close_folad.ewm(span= 2, adjust=False).mean()\n",
        "longEMA2 = Close_folad.ewm(span =35, adjust= False).mean()"
      ],
      "metadata": {
        "id": "XCeat8Uk6oV0"
      },
      "execution_count": null,
      "outputs": []
    },
    {
      "cell_type": "code",
      "source": [
        "longMA = []\n",
        "for i in range(len(Close_folad)-20):\n",
        "  sum = 0\n",
        "  for j in range(20):\n",
        "    sum = sum + Close_folad[j+i]\n",
        "  avg = sum/20\n",
        "  longMA.append(avg)"
      ],
      "metadata": {
        "id": "XzJAYTzl87Sf"
      },
      "execution_count": null,
      "outputs": []
    },
    {
      "cell_type": "code",
      "source": [
        "import matplotlib.pyplot as plt"
      ],
      "metadata": {
        "id": "-ZVpW9hK64lR"
      },
      "execution_count": null,
      "outputs": []
    },
    {
      "cell_type": "code",
      "source": [
        "plt.plot(Close_folad,label=\"Price\")\n",
        "plt.plot(shortEMA2,label=\"EMA2\")\n",
        "plt.plot(longEMA2,label=\"EMA35\")\n",
        "plt.legend()\n",
        "plt.title(\"Stock Price and Moving Averages\")\n",
        "plt.ylabel(\"Price\")"
      ],
      "metadata": {
        "colab": {
          "base_uri": "https://localhost:8080/",
          "height": 469
        },
        "id": "9K9zbJdc7TEh",
        "outputId": "67b3af2a-fd90-415b-8c6b-feab1fa21b57"
      },
      "execution_count": null,
      "outputs": [
        {
          "output_type": "execute_result",
          "data": {
            "text/plain": [
              "Text(0, 0.5, 'Price')"
            ]
          },
          "metadata": {},
          "execution_count": 54
        },
        {
          "output_type": "display_data",
          "data": {
            "text/plain": [
              "<Figure size 640x480 with 1 Axes>"
            ],
            "image/png": "[encoded data removed]"
          },
          "metadata": {}
        }
      ]
    },
    {
      "cell_type": "code",
      "source": [
        "import math"
      ],
      "metadata": {
        "id": "ECCNFEXm_e1g"
      },
      "execution_count": null,
      "outputs": []
    },
    {
      "cell_type": "code",
      "source": [
        "from operator import pos\n",
        "from numba import short\n",
        "#EMA\n",
        "postion = -1\n",
        "c= -1\n",
        "buy_n =[] #شماره روز خرید\n",
        "buy_p = [] #قیمت خرید\n",
        "buy_v= [] # تعداد خرید\n",
        "buy_count =0\n",
        "sell_n = [] # شماره روز فروش\n",
        "sell_p =[] #قیمت فروش\n",
        "sell_profit= [] #ُسود و زیان فروش\n",
        "sell_count =0\n",
        "deposit = 1000000000\n",
        "for i in range(1,len(Close_folad)):\n",
        "  if shortEMA2[i] > longEMA2[i] and shortEMA2[i-1] < longEMA2[i-1]:\n",
        "    c=1\n",
        "  elif shortEMA2[i] < longEMA2[i] and shortEMA2[i-1] > longEMA2[i-1]:\n",
        "    c=-1\n",
        "  if postion ==-1 and c==1:\n",
        "     buy_n.append(i)\n",
        "     buy_p.append(Close_folad[i])\n",
        "     v= math.floor(deposit / Close_folad[i])\n",
        "     deposit = deposit - (v * Close_folad[i])\n",
        "     buy_v.append(v)\n",
        "     buy_count = buy_count+1\n",
        "     postion =1\n",
        "  elif postion ==1 and c==-1:\n",
        "     sell_n.append(i)\n",
        "     sell_p.append(Close_folad[i])\n",
        "     j=  Close_folad[i] * buy_v[buy_count - 1]\n",
        "     deposit = deposit + j\n",
        "     sell_profit.append((Close_folad[i] - buy_p[buy_count -1])*buy_v[buy_count - 1] )\n",
        "     postion = -1\n",
        "     sell_count = sell_count+1\n",
        "  if deposit ==0 and postion==-1:\n",
        "    break\n",
        "if postion == 1:\n",
        "  sell_n.append(len(Close_folad)-1)\n",
        "  sell_p.append(Close_folad[len(Close_folad)-1])\n",
        "  j=  Close_folad[len(Close_folad)-1] * buy_v[buy_count - 1]\n",
        "  deposit = deposit + j\n",
        "  sell_profit.append((Close_folad[len(Close_folad)-1] - buy_p[buy_count -1])*buy_v[buy_count - 1] )\n",
        "  postion = -1\n",
        "  sell_count = sell_count+1\n",
        "\n"
      ],
      "metadata": {
        "id": "KMHyjXoc90lO"
      },
      "execution_count": null,
      "outputs": []
    },
    {
      "cell_type": "code",
      "source": [
        "deposit"
      ],
      "metadata": {
        "colab": {
          "base_uri": "https://localhost:8080/"
        },
        "id": "ycNly0NJCj6c",
        "outputId": "c8ed159e-07c8-40a5-e236-2f7b59637474"
      },
      "execution_count": null,
      "outputs": [
        {
          "output_type": "execute_result",
          "data": {
            "text/plain": [
              "2002490167.539588"
            ]
          },
          "metadata": {},
          "execution_count": 56
        }
      ]
    },
    {
      "cell_type": "code",
      "source": [
        "count=0\n",
        "for i in range(len(sell_profit)):\n",
        "  if sell_profit[i] > 0:\n",
        "    count = count+1\n",
        "win_rate = (count / len(sell_profit)) * 100\n",
        "win_rate"
      ],
      "metadata": {
        "colab": {
          "base_uri": "https://localhost:8080/"
        },
        "id": "fNF_oiLiDeVe",
        "outputId": "03dc37f9-e090-42ff-bd37-70e3c11aad3c"
      },
      "execution_count": null,
      "outputs": [
        {
          "output_type": "execute_result",
          "data": {
            "text/plain": [
              "37.5"
            ]
          },
          "metadata": {},
          "execution_count": 44
        }
      ]
    },
    {
      "cell_type": "code",
      "source": [],
      "metadata": {
        "id": "QCUpbpRDFydh"
      },
      "execution_count": null,
      "outputs": []
    },
    {
      "cell_type": "code",
      "source": [
        "from google.colab import drive\n",
        "drive.mount('/content/drive')"
      ],
      "metadata": {
        "id": "kOLEjxgIIZTB"
      },
      "execution_count": null,
      "outputs": []
    },
    {
      "cell_type": "code",
      "source": [
        "Max =0\n",
        "for n in range(10,26):\n",
        "  for t in range(1,10):\n",
        "      shortEMA1= Close_folad.ewm(span= t, adjust=False).mean()\n",
        "      longEMA1= Close_folad.ewm(span= n, adjust=False).mean()\n",
        "\n",
        "      postion = -1\n",
        "      c= -1\n",
        "      buy_n =[] # شماره روز خرید\n",
        "      buy_p =[] # قیمت خرید\n",
        "      buy_v =[] # تعداد خرید\n",
        "      buy_open = [] #تعداد سفارش باز\n",
        "      buy_count=0\n",
        "      sell_n =[] # شماره روز فروش\n",
        "      sell_p =[] # قیمت فروش\n",
        "      sell_profit =[] # سود و زیان فروش\n",
        "      sell_count=0\n",
        "      deposit = 1000000000\n",
        "      asset =[]\n",
        "      for i in range(1,len(Close_folad)):\n",
        "        if shortEMA1[i] > longEMA1[i]:\n",
        "          if shortEMA1[i-1] <= longEMA1[i-1]:\n",
        "            c= 1\n",
        "        elif shortEMA1[i] < longEMA1[i]:\n",
        "          if shortEMA1[i-1] >= longEMA1[i-1]:\n",
        "            c= -1\n",
        "        if postion ==-1:\n",
        "          if c==1:\n",
        "            buy_n.append(i)\n",
        "            buy_p.append(Close_folad[i])\n",
        "            v= math.floor(deposit / Close_folad[i])\n",
        "            deposit = deposit - (v * Close_folad[i])\n",
        "            buy_v.append(v)\n",
        "            buy_open.append(v)\n",
        "            buy_count = buy_count+1\n",
        "            postion =1\n",
        "        elif postion == 1:\n",
        "          if c==-1:\n",
        "            sell_n.append(i)\n",
        "            sell_p.append(Close_folad[i])\n",
        "            j=  Close_folad[i] * buy_v[buy_count - 1]\n",
        "            deposit = deposit + j\n",
        "            sell_profit.append((Close_folad[i] - buy_p[buy_count -1])*buy_v[buy_count - 1] )\n",
        "            postion = -1\n",
        "            buy_open[buy_count -1] =0\n",
        "            sell_count = sell_count+1\n",
        "        if deposit ==0 and postion == -1:\n",
        "          break\n",
        "      if postion == 1:\n",
        "        sell_n.append(len(Close_folad)-1)\n",
        "        sell_p.append(Close_folad[len(Close_folad)-1])\n",
        "        j=  Close_folad[len(Close_folad)-1] * buy_v[buy_count - 1]\n",
        "        deposit = deposit + j\n",
        "        sell_profit.append((Close_folad[len(Close_folad)-1] - buy_p[buy_count -1])*buy_v[buy_count - 1] )\n",
        "        postion = -1\n",
        "        sell_count = sell_count+1\n",
        "        buy_open[buy_count -1] =0\n",
        "      if deposit > Max:\n",
        "        best_t = t\n",
        "        best_n = n\n",
        "        Max = deposit\n"
      ],
      "metadata": {
        "id": "cc2LIaOrDjTX"
      },
      "execution_count": null,
      "outputs": []
    },
    {
      "cell_type": "code",
      "source": [
        "Max"
      ],
      "metadata": {
        "colab": {
          "base_uri": "https://localhost:8080/"
        },
        "id": "JgGDEj9PFXMM",
        "outputId": "fbf611d6-fbf6-4112-ac40-51f0718b015d"
      },
      "execution_count": null,
      "outputs": [
        {
          "output_type": "execute_result",
          "data": {
            "text/plain": [
              "2168480029.089117"
            ]
          },
          "metadata": {},
          "execution_count": 58
        }
      ]
    },
    {
      "cell_type": "code",
      "source": [
        "print(best_t,best_n)"
      ],
      "metadata": {
        "colab": {
          "base_uri": "https://localhost:8080/"
        },
        "id": "GAAP_KGzGoPw",
        "outputId": "d0627fac-9836-4f8d-9e67-bd7c84a6b5e6"
      },
      "execution_count": null,
      "outputs": [
        {
          "output_type": "stream",
          "name": "stdout",
          "text": [
            "1 12\n"
          ]
        }
      ]
    }
  ]
}